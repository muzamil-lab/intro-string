{
 "cells": [
  {
   "cell_type": "code",
   "execution_count": 1,
   "id": "e8d4f274",
   "metadata": {},
   "outputs": [],
   "source": [
    "a = \"muzamil\""
   ]
  },
  {
   "cell_type": "code",
   "execution_count": 2,
   "id": "33343be1",
   "metadata": {},
   "outputs": [
    {
     "data": {
      "text/plain": [
       "'muzamil'"
      ]
     },
     "execution_count": 2,
     "metadata": {},
     "output_type": "execute_result"
    }
   ],
   "source": [
    "a"
   ]
  },
  {
   "cell_type": "code",
   "execution_count": 3,
   "id": "bde468af",
   "metadata": {},
   "outputs": [],
   "source": [
    "b = 'khan'"
   ]
  },
  {
   "cell_type": "code",
   "execution_count": 4,
   "id": "0ae27792",
   "metadata": {},
   "outputs": [
    {
     "data": {
      "text/plain": [
       "'khan'"
      ]
     },
     "execution_count": 4,
     "metadata": {},
     "output_type": "execute_result"
    }
   ],
   "source": [
    "b"
   ]
  },
  {
   "cell_type": "code",
   "execution_count": 7,
   "id": "5155f195",
   "metadata": {},
   "outputs": [],
   "source": [
    "c = \"this is my program for string and list maniplation that's my is join my class \""
   ]
  },
  {
   "cell_type": "code",
   "execution_count": 8,
   "id": "9d602b98",
   "metadata": {},
   "outputs": [
    {
     "data": {
      "text/plain": [
       "\"this is my program for string and list maniplation that's my is join my class \""
      ]
     },
     "execution_count": 8,
     "metadata": {},
     "output_type": "execute_result"
    }
   ],
   "source": [
    "c"
   ]
  },
  {
   "cell_type": "code",
   "execution_count": 9,
   "id": "8ff9efb3",
   "metadata": {},
   "outputs": [],
   "source": [
    "s = \"my name is muzamil khan\""
   ]
  },
  {
   "cell_type": "code",
   "execution_count": 10,
   "id": "39d31e53",
   "metadata": {},
   "outputs": [
    {
     "data": {
      "text/plain": [
       "'my name is muzamil khan'"
      ]
     },
     "execution_count": 10,
     "metadata": {},
     "output_type": "execute_result"
    }
   ],
   "source": [
    "s"
   ]
  },
  {
   "cell_type": "code",
   "execution_count": 11,
   "id": "01bba5b9",
   "metadata": {},
   "outputs": [
    {
     "data": {
      "text/plain": [
       "' '"
      ]
     },
     "execution_count": 11,
     "metadata": {},
     "output_type": "execute_result"
    }
   ],
   "source": [
    "s[10]"
   ]
  },
  {
   "cell_type": "code",
   "execution_count": 12,
   "id": "bf1d1b00",
   "metadata": {},
   "outputs": [
    {
     "data": {
      "text/plain": [
       "23"
      ]
     },
     "execution_count": 12,
     "metadata": {},
     "output_type": "execute_result"
    }
   ],
   "source": [
    "len(s)"
   ]
  },
  {
   "cell_type": "code",
   "execution_count": 13,
   "id": "21fb62f3",
   "metadata": {},
   "outputs": [
    {
     "data": {
      "text/plain": [
       "'m'"
      ]
     },
     "execution_count": 13,
     "metadata": {},
     "output_type": "execute_result"
    }
   ],
   "source": [
    "s[11]"
   ]
  },
  {
   "cell_type": "code",
   "execution_count": 14,
   "id": "22bdf745",
   "metadata": {},
   "outputs": [
    {
     "data": {
      "text/plain": [
       "''"
      ]
     },
     "execution_count": 14,
     "metadata": {},
     "output_type": "execute_result"
    }
   ],
   "source": [
    "s[9:8:1]"
   ]
  },
  {
   "cell_type": "code",
   "execution_count": 16,
   "id": "81fc17f3",
   "metadata": {},
   "outputs": [
    {
     "data": {
      "text/plain": [
       "'y name'"
      ]
     },
     "execution_count": 16,
     "metadata": {},
     "output_type": "execute_result"
    }
   ],
   "source": [
    "s[1:7:1]"
   ]
  },
  {
   "cell_type": "code",
   "execution_count": 17,
   "id": "bd251e0b",
   "metadata": {},
   "outputs": [
    {
     "data": {
      "text/plain": [
       "'nahk lima'"
      ]
     },
     "execution_count": 17,
     "metadata": {},
     "output_type": "execute_result"
    }
   ],
   "source": [
    "s[-1:-10:-1]"
   ]
  },
  {
   "cell_type": "code",
   "execution_count": null,
   "id": "b64fa9ad",
   "metadata": {},
   "outputs": [],
   "source": []
  }
 ],
 "metadata": {
  "kernelspec": {
   "display_name": "Python 3",
   "language": "python",
   "name": "python3"
  },
  "language_info": {
   "codemirror_mode": {
    "name": "ipython",
    "version": 3
   },
   "file_extension": ".py",
   "mimetype": "text/x-python",
   "name": "python",
   "nbconvert_exporter": "python",
   "pygments_lexer": "ipython3",
   "version": "3.8.8"
  }
 },
 "nbformat": 4,
 "nbformat_minor": 5
}
